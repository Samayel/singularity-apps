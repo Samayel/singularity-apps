{
 "cells": [
  {
   "cell_type": "markdown",
   "metadata": {},
   "source": [
    "# Introduction to exact real and complex arithmetic with Calcium\n",
    "\n"
   ]
  },
  {
   "cell_type": "markdown",
   "metadata": {},
   "source": [
    "*Author: Fredrik Johansson*\n",
    "\n",
    "This notebook gives an introduction to Calcium (https://fredrikj.net/calcium/), using the builtin ctypes-based Python wrapper.\n",
    "\n",
    "The source notebook file: https://github.com/fredrik-johansson/calcium/blob/master/doc/introduction.ipynb\n",
    "\n",
    "To run this Notebook locally, you need to build Calcium and add `calcium/pycalcium` to your Python path.\n",
    "\n",
    "*Caution*: the ctypes wrapper is incomplete, slow, and has some problems (e.g. memory leaks). It is mainly intended for testing the library. A more robust Cython interface should eventually be developed for \"production use\", along with a Julia interface. Calcium itself is also still experimental."
   ]
  },
  {
   "cell_type": "markdown",
   "metadata": {},
   "source": [
    "## Imports\n"
   ]
  },
  {
   "cell_type": "code",
   "execution_count": 1,
   "metadata": {},
   "outputs": [],
   "source": [
    "# For convenience\n",
    "from IPython.display import display\n",
    "\n",
    "# Import the Calcium ctypes wrapper\n",
    "# Don't \"import *\" at home -- this is for demonstration use only\n",
    "from pyca import *"
   ]
  },
  {
   "cell_type": "markdown",
   "metadata": {},
   "source": [
    "Quick example: Euler's identity $e^{\\pi i} + 1 = 0$"
   ]
  },
  {
   "cell_type": "code",
   "execution_count": 2,
   "metadata": {},
   "outputs": [
    {
     "data": {
      "text/latex": [
       "$$0$$"
      ],
      "text/plain": [
       "0"
      ]
     },
     "execution_count": 2,
     "metadata": {},
     "output_type": "execute_result"
    }
   ],
   "source": [
    "exp(pi * i) + 1"
   ]
  },
  {
   "cell_type": "markdown",
   "metadata": {},
   "source": [
    "## Basic types"
   ]
  },
  {
   "cell_type": "markdown",
   "metadata": {},
   "source": [
    "The core types implemented in Calcium are the following:\n",
    "\n",
    "* Symbolic expressions - `pyca.fexpr` (`fexpr_t` in C)\n",
    "* Algebraic numbers - `pyca.qqbar` (`qqbar_t` in C)\n",
    "* Calcium numbers / field elements - `pyca.ca` (`ca_t` in C)\n",
    "\n",
    "The types have different roles, and it is important to understand their differences.\n",
    "\n",
    "**Symbolic expressions** are the most flexible representation: they preserve the exact form of the input without performing any computation or simplification. For example, $\\sqrt{2} / 2$, $1 / \\sqrt{2}$ and $2^{1/2} / 2$ are all different as expressions (although they represent the same number). Symbolic expressions are not very useful on their own for computations, but they are convenient as input and output for other, more \"computational\" types.\n",
    "\n",
    "**Algebraic numbers** represent elements of the field $\\overline{\\mathbb{Q}}$ in *canonical form*, consisting of the number's minimal polynomial together with an isolating complex interval for a unique root. Thus one number can only have one representation: $\\sqrt{2} / 2$ and $1 / \\sqrt{2}$ will evaluate to exactly the same `qqbar` algebraic number. This is useful because the results are predictable and in a sense maximally simplified (contrary to the other types, it is impossible to construct a complicated `qqbar` instance that represents 0 without trivially being 0). The downsides are that field operations are much more expensive than in the `ca` representation, and in passing from a symbolic expression to a `qqbar`, structural information (such as a simple closed form) may be lost.\n",
    "\n",
    "**Calcium numbers** represent numbers as elements of fields $\\mathbb{Q}(a_1,\\ldots,a_n)$. Calcium constructs extension numbers $a_k$ and fields $\\mathbb{Q}(a_1,\\ldots,a_n)$ automatically and lazily, so from the point of view of the user Calcium numbers behave just like numbers. The extension numbers $a_k$ can be \"absolute\" algebraic numbers (`qqbar` instances), but they can also be transcendental numbers like $\\pi$ or $\\exp(\\sqrt{2} i)$. This representation is highly efficient for arithmetic, but in general does not guarantee a canonical form. Relations between extension elements (e.g. $\\log(4) / \\log(2) = 2$) are simplified automatically using ideal reduction, but Calcium will not be able to prove all relations, so it is possible to have a `ca` instance that represents 0 without trivially being 0 (such instances are nevertheless handled in a mathematically rigorous way as discussed below). The `ca` type can also represent special values and metavalues (signed and unsigned infinities, undefined, unknown)."
   ]
  },
  {
   "cell_type": "markdown",
   "metadata": {},
   "source": [
    "## Symbolic expressions\n",
    "\n",
    "In the `pyca` namespace, lowercase names (example: `sqrt`) denote `ca` functions while while uppercase names (example: `Sqrt`) denote `fexpr` symbolic expressions. It is easy to construct symbolic expressions:"
   ]
  },
  {
   "cell_type": "code",
   "execution_count": 3,
   "metadata": {},
   "outputs": [
    {
     "data": {
      "text/latex": [
       "$$\\frac{\\sqrt{2}}{2} + \\frac{1}{\\sqrt{2}} + \\frac{{2}^{1 / 2}}{2}$$"
      ],
      "text/plain": [
       "Add(Div(Sqrt(2), 2), Div(1, Sqrt(2)), Div(Pow(2, Div(1, 2)), 2))"
      ]
     },
     "execution_count": 3,
     "metadata": {},
     "output_type": "execute_result"
    }
   ],
   "source": [
    "# Create a symbolic sum of three terms\n",
    "expr = Add(Sqrt(2) / 2, 1 / Sqrt(2), 2 ** Div(1, 2) / 2)\n",
    "# Display the formula\n",
    "expr"
   ]
  },
  {
   "cell_type": "code",
   "execution_count": 4,
   "metadata": {},
   "outputs": [
    {
     "data": {
      "text/plain": [
       "pyca.fexpr"
      ]
     },
     "execution_count": 4,
     "metadata": {},
     "output_type": "execute_result"
    }
   ],
   "source": [
    "type(expr)"
   ]
  },
  {
   "cell_type": "markdown",
   "metadata": {},
   "source": [
    "### Evaluating expressions and displaying objects"
   ]
  },
  {
   "cell_type": "markdown",
   "metadata": {},
   "source": [
    "Constant expressions can be passed as input to other types, resulting in evaluation:"
   ]
  },
  {
   "cell_type": "code",
   "execution_count": 5,
   "metadata": {},
   "outputs": [
    {
     "data": {
      "text/latex": [
       "$$\\frac{3 a_{1}}{2}\\; \\text{ where } a_{1} = \\sqrt{2}$$"
      ],
      "text/plain": [
       "2.12132 {(3*a)/2 where a = 1.41421 [a^2-2=0]}"
      ]
     },
     "execution_count": 5,
     "metadata": {},
     "output_type": "execute_result"
    }
   ],
   "source": [
    "ca(expr)     # evaluate expr using ca arithmetic, producing a ca"
   ]
  },
  {
   "cell_type": "code",
   "execution_count": 6,
   "metadata": {},
   "outputs": [
    {
     "data": {
      "text/plain": [
       "pyca.ca"
      ]
     },
     "execution_count": 6,
     "metadata": {},
     "output_type": "execute_result"
    }
   ],
   "source": [
    "type(_)"
   ]
  },
  {
   "cell_type": "code",
   "execution_count": 7,
   "metadata": {},
   "outputs": [
    {
     "data": {
      "text/latex": [
       "$$\\left(\\text{Root }\\, x \\approx {2.12132} \\;\\text{ of } \\;{2 x^{2}-9}\\right)$$"
      ],
      "text/plain": [
       "2.12132 (deg 2)"
      ]
     },
     "execution_count": 7,
     "metadata": {},
     "output_type": "execute_result"
    }
   ],
   "source": [
    "qqbar(expr)     # evaluate expr using qqbar arithmetic, producing a qqbar"
   ]
  },
  {
   "cell_type": "code",
   "execution_count": 8,
   "metadata": {},
   "outputs": [
    {
     "data": {
      "text/plain": [
       "pyca.qqbar"
      ]
     },
     "execution_count": 8,
     "metadata": {},
     "output_type": "execute_result"
    }
   ],
   "source": [
    "type(_)"
   ]
  },
  {
   "cell_type": "markdown",
   "metadata": {},
   "source": [
    "Symbolic expressions are also generated automatically behind the scenes in order to display objects in LaTeX in the notebook (this is done in the examples above). You can of course also print objects in text form:"
   ]
  },
  {
   "cell_type": "code",
   "execution_count": 9,
   "metadata": {},
   "outputs": [
    {
     "name": "stdout",
     "output_type": "stream",
     "text": [
      "Add(Div(Sqrt(2), 2), Div(1, Sqrt(2)), Div(Pow(2, Div(1, 2)), 2))\n",
      "2.12132 {(3*a)/2 where a = 1.41421 [a^2-2=0]}\n",
      "2.12132 (deg 2)\n"
     ]
    }
   ],
   "source": [
    "print(expr)\n",
    "print(ca(expr))\n",
    "print(qqbar(expr))"
   ]
  },
  {
   "cell_type": "markdown",
   "metadata": {},
   "source": [
    "By default, `qqbar` objects display as polynomial roots. To produce a closed-form expression (if possible), the `qqbar.fexpr()` method can be called:"
   ]
  },
  {
   "cell_type": "code",
   "execution_count": 10,
   "metadata": {},
   "outputs": [
    {
     "data": {
      "text/latex": [
       "$$\\frac{3 \\sqrt{2}}{2}$$"
      ],
      "text/plain": [
       "Div(Mul(3, Sqrt(2)), 2)"
      ]
     },
     "execution_count": 10,
     "metadata": {},
     "output_type": "execute_result"
    }
   ],
   "source": [
    "qqbar(expr).fexpr()"
   ]
  },
  {
   "cell_type": "markdown",
   "metadata": {},
   "source": [
    "### Manipulating symbolic expressions\n",
    "\n",
    "The `fexpr` type provides methods for rudimentary manipulation (accessing subexpressions and so on)."
   ]
  },
  {
   "cell_type": "code",
   "execution_count": 11,
   "metadata": {},
   "outputs": [
    {
     "name": "stdout",
     "output_type": "stream",
     "text": [
      "Add\n",
      "3\n",
      "(Div(Sqrt(2), 2), Div(1, Sqrt(2)), Div(Pow(2, Div(1, 2)), 2))\n",
      "False\n",
      "True\n",
      "16\n",
      "24\n",
      "Add(Div(Sqrt(Pi), Pi), Div(1, Sqrt(Pi)), Div(Pow(Pi, Div(1, Pi)), Pi))\n"
     ]
    }
   ],
   "source": [
    "expr = Add(Sqrt(2) / 2, 1 / Sqrt(2), 2 ** Div(1, 2) / 2)\n",
    "print(expr.head())\n",
    "print(expr.nargs())\n",
    "print(expr.args())\n",
    "print(expr.is_atom())\n",
    "print(expr.args()[0].args()[1].is_atom())\n",
    "print(expr.num_leaves())\n",
    "print(expr.nwords())\n",
    "print(expr.replace(2, Pi))"
   ]
  },
  {
   "cell_type": "markdown",
   "metadata": {},
   "source": [
    "The `.nstr()` method computes a numerical approximation using Arb, returning a decimal string:"
   ]
  },
  {
   "cell_type": "code",
   "execution_count": 12,
   "metadata": {},
   "outputs": [
    {
     "name": "stdout",
     "output_type": "stream",
     "text": [
      "0.707106781186547524400844362105\n",
      "-1.131204384 + 2.471726672*I\n",
      "-1.00000000000000000000000000000 + 0e-37*I\n",
      "0e-731\n"
     ]
    }
   ],
   "source": [
    "print((Sqrt(2) / 2).nstr(30))\n",
    "print((Exp(1 + 2j).nstr(10)))\n",
    "\n",
    "# No symbolic simplification is done - Arb can generally not detect\n",
    "# exact zeros, and zeros will be output in the form 0e-n\n",
    "print((Exp(Pi*NumberI)).nstr(30))\n",
    "print((Sqrt(2)/2 - 1/Sqrt(2)).nstr())"
   ]
  },
  {
   "cell_type": "markdown",
   "metadata": {},
   "source": [
    "The `.expanded_normal_form()` method puts the given formula in a canonical form as a formal rational expression."
   ]
  },
  {
   "cell_type": "code",
   "execution_count": 13,
   "metadata": {},
   "outputs": [
    {
     "data": {
      "text/latex": [
       "$$\\frac{{x}^{4} + 4 {x}^{3} y + 6 {x}^{2} {y}^{2} + 4 x {y}^{3} + {y}^{4}}{x-1}$$"
      ],
      "text/plain": [
       "Div(Add(Pow(x, 4), Mul(4, Pow(x, 3), y), Mul(6, Pow(x, 2), Pow(y, 2)), Mul(4, x, Pow(y, 3)), Pow(y, 4)), Add(x, -1))"
      ]
     },
     "execution_count": 13,
     "metadata": {},
     "output_type": "execute_result"
    }
   ],
   "source": [
    "x = fexpr(\"x\"); y = fexpr(\"y\")\n",
    "A = (x+y)**5 * (x-y) * (x + 1)\n",
    "B = (x**2 - y**2) * (x**2 - 1)\n",
    "(A / B).expanded_normal_form()"
   ]
  },
  {
   "cell_type": "markdown",
   "metadata": {},
   "source": [
    "Please note that `.expanded_normal_form()` only simplifies rational arithmetic operations, treating anything non-arithmetical as an atomic node. For example, square roots are treated as atomic. It also does not simplify nodes recursively."
   ]
  },
  {
   "cell_type": "code",
   "execution_count": 14,
   "metadata": {},
   "outputs": [
    {
     "data": {
      "text/latex": [
       "$$1$$"
      ],
      "text/plain": [
       "1"
      ]
     },
     "metadata": {},
     "output_type": "display_data"
    },
    {
     "data": {
      "text/latex": [
       "$${\\left(\\sqrt{x}\\right)}^{2}$$"
      ],
      "text/plain": [
       "Pow(Sqrt(x), 2)"
      ]
     },
     "metadata": {},
     "output_type": "display_data"
    },
    {
     "data": {
      "text/latex": [
       "$$\\frac{\\sqrt{2 x}}{\\sqrt{x \\cdot 2}}$$"
      ],
      "text/plain": [
       "Div(Sqrt(Mul(2, x)), Sqrt(Mul(x, 2)))"
      ]
     },
     "metadata": {},
     "output_type": "display_data"
    }
   ],
   "source": [
    "display((Sqrt(x) / Sqrt(x)).expanded_normal_form())\n",
    "display((Sqrt(x) * Sqrt(x)).expanded_normal_form())\n",
    "display((Sqrt(2*x) / Sqrt(x*2)).expanded_normal_form())"
   ]
  },
  {
   "cell_type": "markdown",
   "metadata": {},
   "source": [
    "We will not do anything more sophisticated with symbolic expressions in this notebook; we will instead move on to describing exact numerical calculations using the `ca` and `qqbar` types."
   ]
  },
  {
   "cell_type": "markdown",
   "metadata": {},
   "source": [
    "## Calcium numbers\n",
    "\n",
    "Calcium numbers encompass rational numbers, of course:"
   ]
  },
  {
   "cell_type": "code",
   "execution_count": 15,
   "metadata": {},
   "outputs": [
    {
     "data": {
      "text/latex": [
       "$$\\frac{1}{3}$$"
      ],
      "text/plain": [
       "0.333333 {1/3}"
      ]
     },
     "execution_count": 15,
     "metadata": {},
     "output_type": "execute_result"
    }
   ],
   "source": [
    "ca(1) / 3"
   ]
  },
  {
   "cell_type": "code",
   "execution_count": 16,
   "metadata": {},
   "outputs": [
    {
     "data": {
      "text/latex": [
       "$$2$$"
      ],
      "text/plain": [
       "2"
      ]
     },
     "execution_count": 16,
     "metadata": {},
     "output_type": "execute_result"
    }
   ],
   "source": [
    "(ca(1) / 3) * 6"
   ]
  },
  {
   "cell_type": "markdown",
   "metadata": {},
   "source": [
    "Irrational numbers result in extensions of $\\mathbb{Q}$:"
   ]
  },
  {
   "cell_type": "code",
   "execution_count": 17,
   "metadata": {},
   "outputs": [
    {
     "data": {
      "text/latex": [
       "$$a_{1}\\; \\text{ where } a_{1} = \\sqrt{2}$$"
      ],
      "text/plain": [
       "1.41421 {a where a = 1.41421 [a^2-2=0]}"
      ]
     },
     "execution_count": 17,
     "metadata": {},
     "output_type": "execute_result"
    }
   ],
   "source": [
    "# Alternative syntax: ca(2).sqrt()\n",
    "sqrt(2)"
   ]
  },
  {
   "cell_type": "code",
   "execution_count": 18,
   "metadata": {},
   "outputs": [
    {
     "data": {
      "text/latex": [
       "$$2$$"
      ],
      "text/plain": [
       "2"
      ]
     },
     "execution_count": 18,
     "metadata": {},
     "output_type": "execute_result"
    }
   ],
   "source": [
    "sqrt(2) ** 2"
   ]
  },
  {
   "cell_type": "code",
   "execution_count": 19,
   "metadata": {},
   "outputs": [
    {
     "data": {
      "text/latex": [
       "$$2 a_{1}\\; \\text{ where } a_{1} = \\pi$$"
      ],
      "text/plain": [
       "6.28319 {2*a where a = 3.14159 [Pi]}"
      ]
     },
     "execution_count": 19,
     "metadata": {},
     "output_type": "execute_result"
    }
   ],
   "source": [
    "2 * pi"
   ]
  },
  {
   "cell_type": "markdown",
   "metadata": {},
   "source": [
    "Field arithmetic produces numbers represented as formal fraction field elements:"
   ]
  },
  {
   "cell_type": "code",
   "execution_count": 20,
   "metadata": {},
   "outputs": [
    {
     "data": {
      "text/latex": [
       "$$a_{1} a_{2} a_{3}\\; \\text{ where } a_{1} = \\pi,\\;a_{2} = \\sqrt{2},\\;a_{3} = i$$"
      ],
      "text/plain": [
       "4.44288*I {a*b*c where a = 3.14159 [Pi], b = 1.41421 [b^2-2=0], c = I [c^2+1=0]}"
      ]
     },
     "execution_count": 20,
     "metadata": {},
     "output_type": "execute_result"
    }
   ],
   "source": [
    "pi * i * sqrt(2)"
   ]
  },
  {
   "cell_type": "code",
   "execution_count": 21,
   "metadata": {},
   "outputs": [
    {
     "data": {
      "text/latex": [
       "$$-2 a^{2}_{1}\\; \\text{ where } a_{1} = \\pi,\\;a_{2} = \\sqrt{2},\\;a_{3} = i$$"
      ],
      "text/plain": [
       "-19.7392 {-2*a^2 where a = 3.14159 [Pi], b = 1.41421 [b^2-2=0], c = I [c^2+1=0]}"
      ]
     },
     "execution_count": 21,
     "metadata": {},
     "output_type": "execute_result"
    }
   ],
   "source": [
    "(pi * i * sqrt(2)) ** 2   # note the simplifications"
   ]
  },
  {
   "cell_type": "code",
   "execution_count": 22,
   "metadata": {},
   "outputs": [
    {
     "data": {
      "text/latex": [
       "$$\\frac{a^{3}_{1} + 3 a^{2}_{1} a_{2} + 3 a^{2}_{1} a_{3} + 6 a_{1} a_{2} a_{3} + 3 a_{1}- a_{2} + 5 a_{3}}{a^{3}_{1} + 3 a^{2}_{1} a_{2} + 6 a_{1} + 2 a_{2}}\\; \\text{ where } a_{1} = \\pi,\\;a_{2} = \\sqrt{2},\\;a_{3} = i$$"
      ],
      "text/plain": [
       "0.855459 + 0.647925*I {(a^3+3*a^2*b+3*a^2*c+6*a*b*c+3*a-b+5*c)/(a^3+3*a^2*b+6*a+2*b) where a = 3.14159 [Pi], b = 1.41421 [b^2-2=0], c = I [c^2+1=0]}"
      ]
     },
     "execution_count": 22,
     "metadata": {},
     "output_type": "execute_result"
    }
   ],
   "source": [
    "((pi + i + sqrt(2)) / (pi + sqrt(2)))**3"
   ]
  },
  {
   "cell_type": "markdown",
   "metadata": {},
   "source": [
    "### Some more number field arithmetic"
   ]
  },
  {
   "cell_type": "markdown",
   "metadata": {},
   "source": [
    "Let us construct the golden ratio:"
   ]
  },
  {
   "cell_type": "code",
   "execution_count": 23,
   "metadata": {},
   "outputs": [
    {
     "data": {
      "text/latex": [
       "$$\\frac{a_{1} + 1}{2}\\; \\text{ where } a_{1} = \\sqrt{5}$$"
      ],
      "text/plain": [
       "1.61803 {(a+1)/2 where a = 2.23607 [a^2-5=0]}"
      ]
     },
     "execution_count": 23,
     "metadata": {},
     "output_type": "execute_result"
    }
   ],
   "source": [
    "phi = (sqrt(5) + 1) / 2\n",
    "phi"
   ]
  },
  {
   "cell_type": "markdown",
   "metadata": {},
   "source": [
    "We compute the 200th Fibonacci number using Binet's formula:"
   ]
  },
  {
   "cell_type": "code",
   "execution_count": 24,
   "metadata": {},
   "outputs": [
    {
     "data": {
      "text/latex": [
       "$$280571172992510140037611932413038677189525$$"
      ],
      "text/plain": [
       "2.80571e+41 {280571172992510140037611932413038677189525}"
      ]
     },
     "execution_count": 24,
     "metadata": {},
     "output_type": "execute_result"
    }
   ],
   "source": [
    "(phi**200 - (1-phi)**200) / sqrt(5)"
   ]
  },
  {
   "cell_type": "markdown",
   "metadata": {},
   "source": [
    "Depending on the operations, `ca` arithmetic may result in different field representations of the same number:"
   ]
  },
  {
   "cell_type": "code",
   "execution_count": 25,
   "metadata": {},
   "outputs": [
    {
     "data": {
      "text/latex": [
       "$$a_{1} a_{2}\\; \\text{ where } a_{1} = \\sqrt{3},\\;a_{2} = \\sqrt{2}$$"
      ],
      "text/plain": [
       "2.44949 {a*b where a = 1.73205 [a^2-3=0], b = 1.41421 [b^2-2=0]}"
      ]
     },
     "metadata": {},
     "output_type": "display_data"
    },
    {
     "data": {
      "text/latex": [
       "$$a_{1}\\; \\text{ where } a_{1} = \\sqrt{6}$$"
      ],
      "text/plain": [
       "2.44949 {a where a = 2.44949 [a^2-6=0]}"
      ]
     },
     "metadata": {},
     "output_type": "display_data"
    }
   ],
   "source": [
    "display(sqrt(2)*sqrt(3))\n",
    "display(sqrt(6))"
   ]
  },
  {
   "cell_type": "markdown",
   "metadata": {},
   "source": [
    "The difference simplifies to zero:"
   ]
  },
  {
   "cell_type": "code",
   "execution_count": 26,
   "metadata": {},
   "outputs": [
    {
     "data": {
      "text/latex": [
       "$$0$$"
      ],
      "text/plain": [
       "0"
      ]
     },
     "metadata": {},
     "output_type": "display_data"
    },
    {
     "data": {
      "text/plain": [
       "True"
      ]
     },
     "metadata": {},
     "output_type": "display_data"
    }
   ],
   "source": [
    "display(sqrt(2)*sqrt(3) - sqrt(6))\n",
    "display(sqrt(2)*sqrt(3) == sqrt(6))"
   ]
  },
  {
   "cell_type": "markdown",
   "metadata": {},
   "source": [
    "Calcium will attempt to eliminate more complex extension numbers when it encounters extension numbers that are algebraically dependent. Here, it eliminates $\\sqrt{6}$ from the expression, writing the result in terms of $\\sqrt{2}$ and $\\sqrt{3}$"
   ]
  },
  {
   "cell_type": "code",
   "execution_count": 27,
   "metadata": {},
   "outputs": [
    {
     "data": {
      "text/latex": [
       "$$2 a_{2} a_{3}\\; \\text{ where } a_{1} = \\sqrt{6},\\;a_{2} = \\sqrt{3},\\;a_{3} = \\sqrt{2}$$"
      ],
      "text/plain": [
       "4.89898 {2*b*c where a = 2.44949 [a^2-6=0], b = 1.73205 [b^2-3=0], c = 1.41421 [c^2-2=0]}"
      ]
     },
     "execution_count": 27,
     "metadata": {},
     "output_type": "execute_result"
    }
   ],
   "source": [
    "sqrt(2)*sqrt(3) + sqrt(6)"
   ]
  },
  {
   "cell_type": "markdown",
   "metadata": {},
   "source": [
    "(Implementation detail: the output shows that $\\sqrt{6}$ is still kept as part of the field structure, to aid future simplifications, although it is unused in this particular field element.)\n",
    "\n",
    "In many cases, it would be desirable to write the above result as an element of the simple algebraic number field $\\mathbb{Q}(\\sqrt{6})$ or $\\mathbb{Q}(\\sqrt{2} + \\sqrt{3})$ instead. Calcium will always stay within a univariate field when performing field operations starting from a single extension number, but it will not automatically reduce multivariate number fields to univariate fields. In the future, Calcium will offer more customizability so that the user can choose between different behaviors concerning simplification of extension numbers and fields."
   ]
  },
  {
   "cell_type": "markdown",
   "metadata": {},
   "source": [
    "### Predicates; contexts objects"
   ]
  },
  {
   "cell_type": "markdown",
   "metadata": {},
   "source": [
    "Predicates in Calcium have mathematically semantics: they return True or False only if Calcium can prove the result. When the truth value is unknown, Calcium says so explicitly; in `pyca`, this is done by raising an exception (`NotImplementedError`). Consider, as an example, testing whether $\\exp(\\varepsilon) = 1$ where $\\varepsilon$ is a small number. With $\\varepsilon = 10^{-1000}$, Calcium finds that the numbers are not equal:"
   ]
  },
  {
   "cell_type": "code",
   "execution_count": 28,
   "metadata": {},
   "outputs": [
    {
     "data": {
      "text/plain": [
       "False"
      ]
     },
     "execution_count": 28,
     "metadata": {},
     "output_type": "execute_result"
    }
   ],
   "source": [
    "eps = ca(10) ** (-1000)\n",
    "exp(eps) == 1"
   ]
  },
  {
   "cell_type": "markdown",
   "metadata": {},
   "source": [
    "With $\\varepsilon = 10^{-10000}$, Calcium fails:"
   ]
  },
  {
   "cell_type": "code",
   "execution_count": 29,
   "metadata": {},
   "outputs": [
    {
     "name": "stdout",
     "output_type": "stream",
     "text": [
      "unable to decide predicate: equal\n"
     ]
    }
   ],
   "source": [
    "eps = ca(10) ** (-10000)\n",
    "try:\n",
    "    exp(eps) == 1\n",
    "except Exception as e:\n",
    "    print(e)"
   ]
  },
  {
   "cell_type": "markdown",
   "metadata": {},
   "source": [
    "The comparison fails because the internal precision limit for numerical evaluation has been exceeded. The precision limit and many other settings are stored in a context object, which also serves as a cache of computed data (such as extension numbers and extension fields). The context object has type `ca_ctx`. There is a default context called `ctx_default`, with the following settings:"
   ]
  },
  {
   "cell_type": "code",
   "execution_count": 30,
   "metadata": {},
   "outputs": [
    {
     "data": {
      "text/plain": [
       "ca_ctx(verbose=0, print_flags=3, mpoly_ord=0, prec_limit=4096, qqbar_deg_limit=120, low_prec=64, smooth_limit=32, lll_prec=128, pow_limit=20, use_gb=1, gb_length_limit=100, gb_poly_length_limit=1000, gb_poly_bits_limit=10000, vieta_limit=6)"
      ]
     },
     "execution_count": 30,
     "metadata": {},
     "output_type": "execute_result"
    }
   ],
   "source": [
    "ctx_default"
   ]
  },
  {
   "cell_type": "markdown",
   "metadata": {},
   "source": [
    "If we create a new context object with higher `prec_limit` than the default value of 4096 bits, the computation succeeds:"
   ]
  },
  {
   "cell_type": "code",
   "execution_count": 31,
   "metadata": {},
   "outputs": [
    {
     "data": {
      "text/plain": [
       "False"
      ]
     },
     "execution_count": 31,
     "metadata": {},
     "output_type": "execute_result"
    }
   ],
   "source": [
    "ctx = ca_ctx(prec_limit=65536)\n",
    "eps = ca(10, context=ctx) ** (-10000)\n",
    "exp(eps) == 1"
   ]
  },
  {
   "cell_type": "markdown",
   "metadata": {},
   "source": [
    "The intention is that the user will be able to create multiple \"Calcium fields\" for different purposes. Right now, context objects support only limited configurability."
   ]
  },
  {
   "cell_type": "markdown",
   "metadata": {},
   "source": [
    "## Algebraic number identities"
   ]
  },
  {
   "cell_type": "markdown",
   "metadata": {},
   "source": [
    "Calcium implements a complete decision procedure for testing equality (or inequality) of algebraic numbers.  This functionality is accessible using either `qqbar` or `ca` operations.\n",
    "\n",
    "Rob Corless proposed checking the following identity from Bill Gosper. We will first construct the LHS and RHS as symbolic expressions. We could evaluate them directly with `qqbar` or `ca` operations, which would be more efficient, but this way we can print the input."
   ]
  },
  {
   "cell_type": "code",
   "execution_count": 32,
   "metadata": {},
   "outputs": [
    {
     "data": {
      "text/latex": [
       "$$\\frac{\\sqrt{36 + 3 {\\left(-54 + 35 i \\sqrt{3}\\right)}^{1 / 3} \\cdot {3}^{1 / 3} + \\frac{117}{{\\left(-162 + 105 i \\sqrt{3}\\right)}^{1 / 3}}}}{3} + \\frac{\\sqrt{5} \\left(1296 i + 840 \\sqrt{3} - 35 \\cdot {3}^{5 / 6} {\\left(-54 + 35 i \\sqrt{3}\\right)}^{1 / 3} - 54 i {\\left(-162 + 105 i \\sqrt{3}\\right)}^{1 / 3} + 13 i {\\left(-162 + 105 i \\sqrt{3}\\right)}^{2 / 3}\\right)}{5 \\left(162 i + 105 \\sqrt{3}\\right)} = \\sqrt{5} + \\sqrt{7}$$"
      ],
      "text/plain": [
       "Equal(Add(Div(Sqrt(Add(Add(36, Mul(Mul(3, Pow(Add(-54, Mul(Mul(35, NumberI), Sqrt(3))), Div(1, 3))), Pow(3, Div(1, 3)))), Div(117, Pow(Add(-162, Mul(Mul(105, NumberI), Sqrt(3))), Div(1, 3))))), 3), Div(Mul(Sqrt(5), Add(Sub(Sub(Add(Mul(1296, NumberI), Mul(840, Sqrt(3))), Mul(Mul(35, Pow(3, Div(5, 6))), Pow(Add(-54, Mul(Mul(35, NumberI), Sqrt(3))), Div(1, 3)))), Mul(Mul(54, NumberI), Pow(Add(-162, Mul(Mul(105, NumberI), Sqrt(3))), Div(1, 3)))), Mul(Mul(13, NumberI), Pow(Add(-162, Mul(Mul(105, NumberI), Sqrt(3))), Div(2, 3))))), Mul(5, Add(Mul(162, NumberI), Mul(105, Sqrt(3)))))), Add(Sqrt(5), Sqrt(7)))"
      ]
     },
     "metadata": {},
     "output_type": "display_data"
    }
   ],
   "source": [
    "I = NumberI\n",
    "\n",
    "lhs = Sqrt(36 + 3*(-54+35*I*Sqrt(3))**Div(1,3)*3**Div(1,3) + \\\n",
    "            117/(-162+105*I*Sqrt(3))**Div(1,3))/3 + \\\n",
    "            Sqrt(5)*(1296*I+840*Sqrt(3)-35*3**Div(5,6)*(-54+35*I*Sqrt(3))**Div(1,3)-\\\n",
    "            54*I*(-162+105*I*Sqrt(3))**Div(1,3)+13*I*(-162+105*I*Sqrt(3))**Div(2,3))/(5*(162*I+105*Sqrt(3)))\n",
    "\n",
    "rhs = Sqrt(5) + Sqrt(7)\n",
    "\n",
    "display(Equal(lhs, rhs))"
   ]
  },
  {
   "cell_type": "markdown",
   "metadata": {},
   "source": [
    "We can check numerically that the expressions agree:"
   ]
  },
  {
   "cell_type": "code",
   "execution_count": 33,
   "metadata": {},
   "outputs": [
    {
     "name": "stdout",
     "output_type": "stream",
     "text": [
      "4.881819288564380 - 0e-20*I\n",
      "4.881819288564380\n"
     ]
    }
   ],
   "source": [
    "print(lhs.nstr()); print(rhs.nstr())"
   ]
  },
  {
   "cell_type": "markdown",
   "metadata": {},
   "source": [
    "Evaluating the expressions as `qqbar`s gives the same result, proving the identity: "
   ]
  },
  {
   "cell_type": "code",
   "execution_count": 34,
   "metadata": {},
   "outputs": [
    {
     "data": {
      "text/latex": [
       "$$\\left(\\text{Root }\\, x \\approx {4.88182} \\;\\text{ of } \\;{ x^{4}-24 x^{2}+4}\\right)$$"
      ],
      "text/plain": [
       "4.88182 (deg 4)"
      ]
     },
     "metadata": {},
     "output_type": "display_data"
    },
    {
     "data": {
      "text/latex": [
       "$$\\left(\\text{Root }\\, x \\approx {4.88182} \\;\\text{ of } \\;{ x^{4}-24 x^{2}+4}\\right)$$"
      ],
      "text/plain": [
       "4.88182 (deg 4)"
      ]
     },
     "metadata": {},
     "output_type": "display_data"
    }
   ],
   "source": [
    "display(qqbar(lhs)); display(qqbar(rhs))"
   ]
  },
  {
   "cell_type": "markdown",
   "metadata": {},
   "source": [
    "Explicitly:"
   ]
  },
  {
   "cell_type": "code",
   "execution_count": 35,
   "metadata": {},
   "outputs": [
    {
     "data": {
      "text/plain": [
       "True"
      ]
     },
     "execution_count": 35,
     "metadata": {},
     "output_type": "execute_result"
    }
   ],
   "source": [
    "qqbar(lhs) == qqbar(rhs)"
   ]
  },
  {
   "cell_type": "markdown",
   "metadata": {},
   "source": [
    "We can also perform the verification using `ca` arithmetic. The equality is not immediately apparent since the two expressions evaluate to elements of different extension fields of $\\mathbb{Q}$:"
   ]
  },
  {
   "cell_type": "code",
   "execution_count": 36,
   "metadata": {},
   "outputs": [
    {
     "data": {
      "text/latex": [
       "$$\\frac{5 a_{1}- a^{2}_{4} a^{2}_{6} a_{7} + 24 a_{4} a_{6} a_{7}-39 a_{7}}{15 a_{4} a_{6}}\\; \\text{ where } a_{1} = \\sqrt{9 a^{3}_{4} + 36 a^{2}_{4} a^{2}_{6} + 117 a_{4} a_{6}},\\;a_{2} = {\\left(105 a_{8} a_{9}-162\\right)}^{2 / 3},\\;a_{3} = {\\left(105 a_{8} a_{9}-162\\right)}^{1 / 3},\\;a_{4} = {\\left(35 a_{8} a_{9}-54\\right)}^{1 / 3},\\;a_{5} = {3}^{5 / 6},\\;a_{6} = {3}^{1 / 3},\\;a_{7} = \\sqrt{5},\\;a_{8} = \\sqrt{3},\\;a_{9} = i$$"
      ],
      "text/plain": [
       "4.88182 + 0e-33*I {(5*a-d^2*f^2*g+24*d*f*g-39*g)/(15*d*f) where a = 35.7176 + 34.3693*I [Sqrt(94.5000 + 2455.18*I {9*d^3+36*d^2*f^2+117*d*f})], b = 1.50000 + 38.9711*I [Pow(-162.000 + 181.865*I {105*h*i-162}, 0.666667 {2/3})], c = 4.50000 + 4.33013*I [Pow(-162.000 + 181.865*I {105*h*i-162}, 0.333333 {1/3})], d = 3.12013 + 3.00234*I [Pow(-54.0000 + 60.6218*I {35*h*i-54}, 0.333333 {1/3})], e = 2.49805 [Pow(3, 0.833333 {5/6})], f = 1.44225 [Pow(3, 0.333333 {1/3})], g = 2.23607 [g^2-5=0], h = 1.73205 [h^2-3=0], i = I [i^2+1=0]}"
      ]
     },
     "metadata": {},
     "output_type": "display_data"
    }
   ],
   "source": [
    "display(ca(lhs))"
   ]
  },
  {
   "cell_type": "code",
   "execution_count": 37,
   "metadata": {},
   "outputs": [
    {
     "data": {
      "text/latex": [
       "$$a_{1} + a_{2}\\; \\text{ where } a_{1} = \\sqrt{7},\\;a_{2} = \\sqrt{5}$$"
      ],
      "text/plain": [
       "4.88182 {a+b where a = 2.64575 [a^2-7=0], b = 2.23607 [b^2-5=0]}"
      ]
     },
     "metadata": {},
     "output_type": "display_data"
    }
   ],
   "source": [
    "display(ca(rhs))"
   ]
  },
  {
   "cell_type": "markdown",
   "metadata": {},
   "source": [
    "Fortunately, the equality operator manages to prove that the values are really equal:"
   ]
  },
  {
   "cell_type": "code",
   "execution_count": 38,
   "metadata": {},
   "outputs": [
    {
     "data": {
      "text/plain": [
       "True"
      ]
     },
     "execution_count": 38,
     "metadata": {},
     "output_type": "execute_result"
    }
   ],
   "source": [
    "ca(lhs) == ca(rhs)"
   ]
  },
  {
   "cell_type": "markdown",
   "metadata": {},
   "source": [
    "Indeed, in this case `ca` arithmetic simplifies the difference of the expressions to 0 automatically:"
   ]
  },
  {
   "cell_type": "code",
   "execution_count": 39,
   "metadata": {},
   "outputs": [
    {
     "data": {
      "text/latex": [
       "$$0$$"
      ],
      "text/plain": [
       "0"
      ]
     },
     "execution_count": 39,
     "metadata": {},
     "output_type": "execute_result"
    }
   ],
   "source": [
    "ca(lhs) - ca(rhs)"
   ]
  },
  {
   "cell_type": "markdown",
   "metadata": {},
   "source": [
    "If this example did not look challenging enough, you may try proving equality of the two huge expressions (involving 7000 operations) given in https://ask.sagemath.org/question/52653/equality-of-algebraic-numbers-given-by-huge-symbolic-expressions/. You will need a bit of string preprocessing to convert the given Sage expressions to `fexpr` expressions or ordinary Python syntax for use with the `ca` or `qqbar` types.\n",
    "\n",
    "This test problem is implemented in the `huge_expr.c` program in the Calcium examples directory. It should take a few seconds to run."
   ]
  },
  {
   "cell_type": "markdown",
   "metadata": {},
   "source": [
    "## Transcendental number identities"
   ]
  },
  {
   "cell_type": "markdown",
   "metadata": {},
   "source": [
    "Calcium is capable of manipulating numbers involving some transcendental functions such as `exp` and `log`. Contrary to the case of algebraic numbers, it does not have a complete decision procedure for transcendental numbers, but it has some decent heuristics."
   ]
  },
  {
   "cell_type": "markdown",
   "metadata": {},
   "source": [
    "### Exp and log numbers\n",
    "\n",
    "Basic logarithmic and exponential simplifications work as expected:"
   ]
  },
  {
   "cell_type": "code",
   "execution_count": 40,
   "metadata": {},
   "outputs": [
    {
     "data": {
      "text/latex": [
       "$$10$$"
      ],
      "text/plain": [
       "10"
      ]
     },
     "execution_count": 40,
     "metadata": {},
     "output_type": "execute_result"
    }
   ],
   "source": [
    "log(10**20) / log(100)"
   ]
  },
  {
   "cell_type": "code",
   "execution_count": 41,
   "metadata": {},
   "outputs": [
    {
     "data": {
      "text/latex": [
       "$$2$$"
      ],
      "text/plain": [
       "2"
      ]
     },
     "execution_count": 41,
     "metadata": {},
     "output_type": "execute_result"
    }
   ],
   "source": [
    "exp(pi) * exp(-pi + log(2))"
   ]
  },
  {
   "cell_type": "markdown",
   "metadata": {},
   "source": [
    "Different formulas for the same number may result in different internal field representations, in which case Calcium may yet be able to recognize relations when the numbers are subtracted or divided or when evaluating a predicate:"
   ]
  },
  {
   "cell_type": "code",
   "execution_count": 42,
   "metadata": {},
   "outputs": [
    {
     "data": {
      "text/latex": [
       "$$a_{1}\\; \\text{ where } a_{1} = \\log(a_{2}),\\;a_{2} = \\sqrt{2}$$"
      ],
      "text/plain": [
       "0.346574 {a where a = 0.346574 [Log(1.41421 {b})], b = 1.41421 [b^2-2=0]}"
      ]
     },
     "metadata": {},
     "output_type": "display_data"
    },
    {
     "data": {
      "text/latex": [
       "$$\\frac{a_{1}}{2}\\; \\text{ where } a_{1} = \\log(2)$$"
      ],
      "text/plain": [
       "0.346574 {(a)/2 where a = 0.693147 [Log(2)]}"
      ]
     },
     "metadata": {},
     "output_type": "display_data"
    },
    {
     "data": {
      "text/latex": [
       "$$0$$"
      ],
      "text/plain": [
       "0"
      ]
     },
     "metadata": {},
     "output_type": "display_data"
    },
    {
     "data": {
      "text/latex": [
       "$$1$$"
      ],
      "text/plain": [
       "1"
      ]
     },
     "metadata": {},
     "output_type": "display_data"
    },
    {
     "data": {
      "text/latex": [
       "$$\\frac{a^{2}_{2}}{4}\\; \\text{ where } a_{1} = \\log(a_{3}),\\;a_{2} = \\log(2),\\;a_{3} = \\sqrt{2}$$"
      ],
      "text/plain": [
       "0.120113 {(b^2)/4 where a = 0.346574 [Log(1.41421 {c})], b = 0.693147 [Log(2)], c = 1.41421 [c^2-2=0]}"
      ]
     },
     "metadata": {},
     "output_type": "display_data"
    },
    {
     "data": {
      "text/plain": [
       "True"
      ]
     },
     "execution_count": 42,
     "metadata": {},
     "output_type": "execute_result"
    }
   ],
   "source": [
    "display(log(sqrt(2)))\n",
    "display(log(2)/2)\n",
    "display(log(sqrt(2)) - log(2)/2)\n",
    "display(log(sqrt(2)) / (log(2)/2))\n",
    "display(log(sqrt(2)) * (log(2)/2))\n",
    "log(sqrt(2)) == log(2)/2"
   ]
  },
  {
   "cell_type": "markdown",
   "metadata": {},
   "source": [
    "Calcium is aware of branch cuts:"
   ]
  },
  {
   "cell_type": "code",
   "execution_count": 43,
   "metadata": {},
   "outputs": [
    {
     "data": {
      "text/latex": [
       "$$10 a_{1} + 1\\; \\text{ where } a_{1} = i$$"
      ],
      "text/plain": [
       "1.00000 + 10.0000*I {10*a+1 where a = I [a^2+1=0]}"
      ]
     },
     "metadata": {},
     "output_type": "display_data"
    },
    {
     "data": {
      "text/latex": [
       "$$-4 a_{1} a_{2} + 10 a_{2} + 1\\; \\text{ where } a_{1} = \\pi,\\;a_{2} = i$$"
      ],
      "text/plain": [
       "1.00000 - 2.56637*I {-4*a*b+10*b+1 where a = 3.14159 [Pi], b = I [b^2+1=0]}"
      ]
     },
     "metadata": {},
     "output_type": "display_data"
    }
   ],
   "source": [
    "# exp(log(x)) == x\n",
    "display(exp(log(1 + 10*i)))\n",
    "# log(exp(x)) != x in general; here we get the correct branch!\n",
    "display(log(exp(1 + 10*i)))"
   ]
  },
  {
   "cell_type": "markdown",
   "metadata": {},
   "source": [
    "Let us check the formulas given on the Calcium documentation front page:"
   ]
  },
  {
   "cell_type": "code",
   "execution_count": 44,
   "metadata": {},
   "outputs": [
    {
     "data": {
      "text/latex": [
       "$$\\frac{1}{2}$$"
      ],
      "text/plain": [
       "0.500000 {1/2}"
      ]
     },
     "execution_count": 44,
     "metadata": {},
     "output_type": "execute_result"
    }
   ],
   "source": [
    "log(sqrt(2)+sqrt(3)) / log(5 + 2*sqrt(6))"
   ]
  },
  {
   "cell_type": "code",
   "execution_count": 45,
   "metadata": {},
   "outputs": [
    {
     "data": {
      "text/latex": [
       "$$0$$"
      ],
      "text/plain": [
       "0"
      ]
     },
     "execution_count": 45,
     "metadata": {},
     "output_type": "execute_result"
    }
   ],
   "source": [
    "i**i - exp(pi / ((sqrt(-2)**sqrt(2)) ** sqrt(2)))"
   ]
  },
  {
   "cell_type": "code",
   "execution_count": 46,
   "metadata": {},
   "outputs": [
    {
     "data": {
      "text/plain": [
       "True"
      ]
     },
     "execution_count": 46,
     "metadata": {},
     "output_type": "execute_result"
    }
   ],
   "source": [
    "ca(10)**-30 < (640320**3 + 744)/exp(pi*sqrt(163)) - 1 < ca(10)**-29"
   ]
  },
  {
   "cell_type": "markdown",
   "metadata": {},
   "source": [
    "### Trigonometric functions\n",
    "\n",
    "Calcium does not yet have trigonometric or inverse trigonometric funtions builtin at the C level, but we can \"fake\" these functions using complex exponentials and logarithms. The functions `pyca.sin`, `pyca.cos`, `pyca.tan` and `pyca.atan` do precisely this."
   ]
  },
  {
   "cell_type": "code",
   "execution_count": 47,
   "metadata": {},
   "outputs": [
    {
     "data": {
      "text/latex": [
       "$$\\frac{- a^{2}_{1} a_{2} + a_{2}}{2 a_{1}}\\; \\text{ where } a_{1} = e^{3 a_{2}},\\;a_{2} = i$$"
      ],
      "text/plain": [
       "0.141120 - 0e-34*I {(-a^2*b+b)/(2*a) where a = -0.989992 + 0.141120*I [Exp(3.00000*I {3*b})], b = I [b^2+1=0]}"
      ]
     },
     "execution_count": 47,
     "metadata": {},
     "output_type": "execute_result"
    }
   ],
   "source": [
    "sin(3)"
   ]
  },
  {
   "cell_type": "markdown",
   "metadata": {},
   "source": [
    "Calcium is capable of proving some trigonometric identities:"
   ]
  },
  {
   "cell_type": "code",
   "execution_count": 48,
   "metadata": {},
   "outputs": [
    {
     "data": {
      "text/latex": [
       "$$1$$"
      ],
      "text/plain": [
       "1"
      ]
     },
     "execution_count": 48,
     "metadata": {},
     "output_type": "execute_result"
    }
   ],
   "source": [
    "sin(sqrt(2)/2)**2 + cos(1/sqrt(2))**2"
   ]
  },
  {
   "cell_type": "code",
   "execution_count": 49,
   "metadata": {},
   "outputs": [
    {
     "data": {
      "text/latex": [
       "$$0$$"
      ],
      "text/plain": [
       "0"
      ]
     },
     "execution_count": 49,
     "metadata": {},
     "output_type": "execute_result"
    }
   ],
   "source": [
    "sin(3 + pi) + sin(3)"
   ]
  },
  {
   "cell_type": "code",
   "execution_count": 50,
   "metadata": {},
   "outputs": [
    {
     "data": {
      "text/plain": [
       "True"
      ]
     },
     "execution_count": 50,
     "metadata": {},
     "output_type": "execute_result"
    }
   ],
   "source": [
    "tan(atan(5)) == 5"
   ]
  },
  {
   "cell_type": "code",
   "execution_count": 51,
   "metadata": {},
   "outputs": [
    {
     "name": "stdout",
     "output_type": "stream",
     "text": [
      "This simplification does not work yet\n"
     ]
    }
   ],
   "source": [
    "try:\n",
    "    atan(tan(1)) == 1\n",
    "except NotImplementedError:\n",
    "    print(\"This simplification does not work yet\")"
   ]
  },
  {
   "cell_type": "markdown",
   "metadata": {},
   "source": [
    "We test some simplifications involving the Gudermannian function $\\operatorname{gd}(x) = 2 \\operatorname{atan}(e^x) - \\pi/2$:"
   ]
  },
  {
   "cell_type": "code",
   "execution_count": 52,
   "metadata": {},
   "outputs": [
    {
     "data": {
      "text/latex": [
       "$$0$$"
      ],
      "text/plain": [
       "0"
      ]
     },
     "metadata": {},
     "output_type": "display_data"
    },
    {
     "data": {
      "text/latex": [
       "$$0$$"
      ],
      "text/plain": [
       "0"
      ]
     },
     "metadata": {},
     "output_type": "display_data"
    },
    {
     "data": {
      "text/latex": [
       "$$0$$"
      ],
      "text/plain": [
       "0"
      ]
     },
     "metadata": {},
     "output_type": "display_data"
    },
    {
     "data": {
      "text/latex": [
       "$$0$$"
      ],
      "text/plain": [
       "0"
      ]
     },
     "metadata": {},
     "output_type": "display_data"
    }
   ],
   "source": [
    "def gd(x):\n",
    "    return 2*atan(exp(x))-pi/2\n",
    "\n",
    "display(sin(gd(1)) - tanh(1))\n",
    "display(tan(gd(1)) - sinh(1))\n",
    "display(sin(gd(sqrt(2))) - tanh(sqrt(2)))\n",
    "display(tan(gd(1)/2) - tanh(ca(1)/2))"
   ]
  },
  {
   "cell_type": "markdown",
   "metadata": {},
   "source": [
    "Let us try to prove a famous identity; Machin's formula for $\\pi$:"
   ]
  },
  {
   "cell_type": "code",
   "execution_count": 53,
   "metadata": {},
   "outputs": [
    {
     "data": {
      "text/latex": [
       "$$4 \\operatorname{atan}\\!\\left(\\frac{1}{5}\\right) - \\operatorname{atan}\\!\\left(\\frac{1}{239}\\right) = \\frac{\\pi}{4}$$"
      ],
      "text/plain": [
       "Equal(Sub(Mul(4, Atan(Div(1, 5))), Atan(Div(1, 239))), Div(Pi, 4))"
      ]
     },
     "execution_count": 53,
     "metadata": {},
     "output_type": "execute_result"
    }
   ],
   "source": [
    "lhs = 4*Atan(Div(1,5)) - Atan(Div(1,239))\n",
    "rhs = Pi / 4\n",
    "Equal(lhs, rhs)"
   ]
  },
  {
   "cell_type": "code",
   "execution_count": 54,
   "metadata": {},
   "outputs": [
    {
     "name": "stdout",
     "output_type": "stream",
     "text": [
      "0.7853981633974483\n",
      "0.7853981633974483\n"
     ]
    }
   ],
   "source": [
    "print(lhs.nstr())\n",
    "print(rhs.nstr())"
   ]
  },
  {
   "cell_type": "markdown",
   "metadata": {},
   "source": [
    "Evaluating the left-hand side using `ca` arithmetic gives us nothing as simple as $\\pi / 4$:"
   ]
  },
  {
   "cell_type": "code",
   "execution_count": 55,
   "metadata": {},
   "outputs": [
    {
     "data": {
      "text/latex": [
       "$$\\frac{a_{1} a_{3}-4 a_{2} a_{3}}{2}\\; \\text{ where } a_{1} = \\log\\!\\left(\\frac{239 a_{3} + 28560}{28561}\\right),\\;a_{2} = \\log\\!\\left(\\frac{5 a_{3} + 12}{13}\\right),\\;a_{3} = i$$"
      ],
      "text/plain": [
       "0.785398 + 0e-34*I {(a*c-4*b*c)/2 where a = 0e-35 + 0.00836815*I [Log(0.999965 + 0.00836805*I {(239*c+28560)/28561})], b = 0e-34 + 0.394791*I [Log(0.923077 + 0.384615*I {(5*c+12)/13})], c = I [c^2+1=0]}"
      ]
     },
     "execution_count": 55,
     "metadata": {},
     "output_type": "execute_result"
    }
   ],
   "source": [
    "4*atan(ca(1)/5) - atan(ca(1)/239)"
   ]
  },
  {
   "cell_type": "markdown",
   "metadata": {},
   "source": [
    "Nevertheless, Calcium finds the identity when $\\pi$ is given as part of the input:"
   ]
  },
  {
   "cell_type": "code",
   "execution_count": 56,
   "metadata": {},
   "outputs": [
    {
     "data": {
      "text/latex": [
       "$$0$$"
      ],
      "text/plain": [
       "0"
      ]
     },
     "execution_count": 56,
     "metadata": {},
     "output_type": "execute_result"
    }
   ],
   "source": [
    "4*atan(ca(1)/5) - atan(ca(1)/239) - pi/4"
   ]
  },
  {
   "cell_type": "code",
   "execution_count": 57,
   "metadata": {},
   "outputs": [
    {
     "data": {
      "text/plain": [
       "True"
      ]
     },
     "execution_count": 57,
     "metadata": {},
     "output_type": "execute_result"
    }
   ],
   "source": [
    "4*atan(ca(1)/5) - atan(ca(1)/239) == pi/4"
   ]
  },
  {
   "cell_type": "markdown",
   "metadata": {},
   "source": [
    "Here is a more complicated formula:"
   ]
  },
  {
   "cell_type": "code",
   "execution_count": 58,
   "metadata": {},
   "outputs": [
    {
     "data": {
      "text/latex": [
       "$$\\frac{-12 a_{1} a_{5} + 5 a_{2} a_{5}-32 a_{3} a_{5}-12 a_{4} a_{5}}{2}\\; \\text{ where } a_{1} = \\log\\!\\left(\\frac{110443 a_{5} + 6098828124}{6098828125}\\right),\\;a_{2} = \\log\\!\\left(\\frac{239 a_{5} + 28560}{28561}\\right),\\;a_{3} = \\log\\!\\left(\\frac{57 a_{5} + 1624}{1625}\\right),\\;a_{4} = \\log\\!\\left(\\frac{49 a_{5} + 1200}{1201}\\right),\\;a_{5} = i$$"
      ],
      "text/plain": [
       "0.785398 + 0e-33*I {(-12*a*e+5*b*e-32*c*e-12*d*e)/2 where a = 0e-35 + 1.81089e-5*I [Log(1.00000 + 1.81089e-5*I {(110443*e+6098828124)/6098828125})], b = 0e-35 + 0.00836815*I [Log(0.999965 + 0.00836805*I {(239*e+28560)/28561})], c = 0e-34 + 0.0350841*I [Log(0.999385 + 0.0350769*I {(57*e+1624)/1625})], d = 0e-35 + 0.0408107*I [Log(0.999167 + 0.0407993*I {(49*e+1200)/1201})], e = I [e^2+1=0]}"
      ]
     },
     "execution_count": 58,
     "metadata": {},
     "output_type": "execute_result"
    }
   ],
   "source": [
    "12*atan(ca(1)/49) + 32*atan(ca(1)/57) - 5*atan(ca(1)/239) + 12*atan(ca(1)/110443)"
   ]
  },
  {
   "cell_type": "code",
   "execution_count": 59,
   "metadata": {},
   "outputs": [
    {
     "data": {
      "text/latex": [
       "$$0$$"
      ],
      "text/plain": [
       "0"
      ]
     },
     "execution_count": 59,
     "metadata": {},
     "output_type": "execute_result"
    }
   ],
   "source": [
    "12*atan(ca(1)/49) + 32*atan(ca(1)/57) - 5*atan(ca(1)/239) + 12*atan(ca(1)/110443) - pi/4"
   ]
  },
  {
   "cell_type": "markdown",
   "metadata": {},
   "source": [
    "Hyperbolic formulas also work:"
   ]
  },
  {
   "cell_type": "code",
   "execution_count": 60,
   "metadata": {},
   "outputs": [
    {
     "data": {
      "text/latex": [
       "$$-7 a_{1}-12 a_{2}-16 a_{3}\\; \\text{ where } a_{1} = \\log\\!\\left(\\frac{80}{81}\\right),\\;a_{2} = \\log\\!\\left(\\frac{24}{25}\\right),\\;a_{3} = \\log\\!\\left(\\frac{15}{16}\\right),\\;a_{4} = i$$"
      ],
      "text/plain": [
       "1.60944 {-7*a-12*b-16*c where a = -0.0124225 [Log(0.987654 {80/81})], b = -0.0408220 [Log(0.960000 {24/25})], c = -0.0645385 [Log(0.937500 {15/16})], d = I [d^2+1=0]}"
      ]
     },
     "execution_count": 60,
     "metadata": {},
     "output_type": "execute_result"
    }
   ],
   "source": [
    "atanh = lambda x: -i*atan(i*x)\n",
    "32*atanh(ca(1)/31) + 24*atanh(ca(1)/49) + 14*atanh(ca(1)/161)"
   ]
  },
  {
   "cell_type": "code",
   "execution_count": 61,
   "metadata": {},
   "outputs": [
    {
     "data": {
      "text/latex": [
       "$$0$$"
      ],
      "text/plain": [
       "0"
      ]
     },
     "execution_count": 61,
     "metadata": {},
     "output_type": "execute_result"
    }
   ],
   "source": [
    "32*atanh(ca(1)/31) + 24*atanh(ca(1)/49) + 14*atanh(ca(1)/161) - log(5)"
   ]
  },
  {
   "cell_type": "markdown",
   "metadata": {},
   "source": [
    "## Matrices\n",
    "\n",
    "The `ca_mat` type provides matrices with `ca` entries. We look at some examples of basic manipulation:"
   ]
  },
  {
   "cell_type": "code",
   "execution_count": 62,
   "metadata": {},
   "outputs": [
    {
     "data": {
      "text/latex": [
       "$$\\displaystyle{\\begin{pmatrix}1 & a_{1} a_{2} \\\\- a_{1} a_{2} & 2\\end{pmatrix}}\\; \\text{ where } a_{1} = \\pi,\\;a_{2} = i$$"
      ],
      "text/plain": [
       "ca_mat of size 2 x 2\n",
       "[                                                        1, 3.14159*I {a*b where a = 3.14159 [Pi], b = I [b^2+1=0]}]\n",
       "[-3.14159*I {-a*b where a = 3.14159 [Pi], b = I [b^2+1=0]},                                                       2]"
      ]
     },
     "execution_count": 62,
     "metadata": {},
     "output_type": "execute_result"
    }
   ],
   "source": [
    "A = ca_mat([[1, i*pi], [-i*pi, 2]])\n",
    "A"
   ]
  },
  {
   "cell_type": "code",
   "execution_count": 63,
   "metadata": {},
   "outputs": [
    {
     "data": {
      "text/latex": [
       "$$\\displaystyle{\\begin{pmatrix}a^{2}_{1} + 1 & 3 a_{1} a_{2} \\\\-3 a_{1} a_{2} & a^{2}_{1} + 4\\end{pmatrix}}\\; \\text{ where } a_{1} = \\pi,\\;a_{2} = i$$"
      ],
      "text/plain": [
       "ca_mat of size 2 x 2\n",
       "[    10.8696 {a^2+1 where a = 3.14159 [Pi], b = I [b^2+1=0]}, 9.42478*I {3*a*b where a = 3.14159 [Pi], b = I [b^2+1=0]}]\n",
       "[-9.42478*I {-3*a*b where a = 3.14159 [Pi], b = I [b^2+1=0]},   13.8696 {a^2+4 where a = 3.14159 [Pi], b = I [b^2+1=0]}]"
      ]
     },
     "execution_count": 63,
     "metadata": {},
     "output_type": "execute_result"
    }
   ],
   "source": [
    "A * A"
   ]
  },
  {
   "cell_type": "code",
   "execution_count": 64,
   "metadata": {},
   "outputs": [
    {
     "data": {
      "text/latex": [
       "$$- a^{2}_{1} + 2\\; \\text{ where } a_{1} = \\pi,\\;a_{2} = i$$"
      ],
      "text/plain": [
       "-7.86960 {-a^2+2 where a = 3.14159 [Pi], b = I [b^2+1=0]}"
      ]
     },
     "metadata": {},
     "output_type": "display_data"
    },
    {
     "data": {
      "text/latex": [
       "$$3$$"
      ],
      "text/plain": [
       "3"
      ]
     },
     "metadata": {},
     "output_type": "display_data"
    },
    {
     "data": {
      "text/plain": [
       "2"
      ]
     },
     "metadata": {},
     "output_type": "display_data"
    }
   ],
   "source": [
    "display(A.det())\n",
    "display(A.trace())\n",
    "display(A.rank())"
   ]
  },
  {
   "cell_type": "markdown",
   "metadata": {},
   "source": [
    "Solving linear systems:"
   ]
  },
  {
   "cell_type": "code",
   "execution_count": 65,
   "metadata": {},
   "outputs": [
    {
     "data": {
      "text/latex": [
       "$$\\displaystyle{\\begin{pmatrix}\\frac{2 a_{1} a_{2}-2}{a^{2}_{1}-2} \\\\\\frac{- a_{1} a_{2}-2}{a^{2}_{1}-2}\\end{pmatrix}}\\; \\text{ where } a_{1} = \\pi,\\;a_{2} = i$$"
      ],
      "text/plain": [
       "ca_mat of size 2 x 1\n",
       "[-0.254142 + 0.798412*I {(2*a*b-2)/(a^2-2) where a = 3.14159 [Pi], b = I [b^2+1=0]}]\n",
       "[ -0.254142 - 0.399206*I {(-a*b-2)/(a^2-2) where a = 3.14159 [Pi], b = I [b^2+1=0]}]"
      ]
     },
     "metadata": {},
     "output_type": "display_data"
    },
    {
     "data": {
      "text/latex": [
       "$$\\displaystyle{\\begin{pmatrix}1 \\\\2\\end{pmatrix}}$$"
      ],
      "text/plain": [
       "ca_mat of size 2 x 1\n",
       "[1]\n",
       "[2]"
      ]
     },
     "metadata": {},
     "output_type": "display_data"
    }
   ],
   "source": [
    "B = ca_mat([[1], [2]])\n",
    "X = A.solve(B)\n",
    "display(X)\n",
    "display(A * X)"
   ]
  },
  {
   "cell_type": "markdown",
   "metadata": {},
   "source": [
    "Computing row echelon forms and characteristic polynomials:"
   ]
  },
  {
   "cell_type": "code",
   "execution_count": 66,
   "metadata": {},
   "outputs": [
    {
     "data": {
      "text/latex": [
       "$$\\displaystyle{\\begin{pmatrix}1 & 0 & 0 & \\frac{a^{3}_{1}- a^{2}_{1}-2 a_{1}}{3 a^{2}_{1} + 3 a_{1}-2} \\\\0 & 1 & 0 & \\frac{4 a^{2}_{1} + 4 a_{1}-2}{3 a^{2}_{1} + 3 a_{1}-2} \\\\0 & 0 & 1 & \\frac{- a^{3}_{1} + a_{1}}{3 a^{2}_{1} + 3 a_{1}-2}\\end{pmatrix}}\\; \\text{ where } a_{1} = \\pi$$"
      ],
      "text/plain": [
       "ca_mat of size 3 x 4\n",
       "[1, 0, 0, 0.401081 {(a^3-a^2-2*a)/(3*a^2+3*a-2) where a = 3.14159 [Pi]}]\n",
       "[0, 1, 0,  1.35134 {(4*a^2+4*a-2)/(3*a^2+3*a-2) where a = 3.14159 [Pi]}]\n",
       "[0, 0, 1,     -0.752416 {(-a^3+a)/(3*a^2+3*a-2) where a = 3.14159 [Pi]}]"
      ]
     },
     "execution_count": 66,
     "metadata": {},
     "output_type": "execute_result"
    }
   ],
   "source": [
    "ca_mat([[1,pi,2,pi],[1/pi,3,1/(pi+1),4],[1,1,1,1]]).rref()"
   ]
  },
  {
   "cell_type": "code",
   "execution_count": 67,
   "metadata": {},
   "outputs": [
    {
     "data": {
      "text/latex": [
       "$$\\displaystyle{\\begin{pmatrix}a^{2}_{1} + 66 a_{1} + 625 & 8 a^{2}_{1} + 104 a_{1} \\\\8 a_{1} + 104 & a^{2}_{1} + 18 a_{1} + 1\\end{pmatrix}}\\; \\text{ where } a_{1} = \\pi$$"
      ],
      "text/plain": [
       "ca_mat of size 2 x 2\n",
       "[842.215 {a^2+66*a+625 where a = 3.14159 [Pi]}, 405.682 {8*a^2+104*a where a = 3.14159 [Pi]}]\n",
       "[     129.133 {8*a+104 where a = 3.14159 [Pi]},  67.4183 {a^2+18*a+1 where a = 3.14159 [Pi]}]"
      ]
     },
     "metadata": {},
     "output_type": "display_data"
    },
    {
     "data": {
      "text/latex": [
       "$$ x^{2}+ \\left(-2 a^{2}_{1}-84 a_{1}-626\\right) x+ \\left(a^{4}_{1} + 20 a^{3}_{1} + 150 a^{2}_{1} + 500 a_{1} + 625\\right)\\; \\text{ where } a_{1} = \\pi$$"
      ],
      "text/plain": [
       "ca_poly of length 3\n",
       "[4393.77 {a^4+20*a^3+150*a^2+500*a+625 where a = 3.14159 [Pi]}, -909.633 {-2*a^2-84*a-626 where a = 3.14159 [Pi]}, 1]"
      ]
     },
     "metadata": {},
     "output_type": "display_data"
    },
    {
     "data": {
      "text/latex": [
       "$$\\displaystyle{\\begin{pmatrix}0 & 0 \\\\0 & 0\\end{pmatrix}}$$"
      ],
      "text/plain": [
       "ca_mat of size 2 x 2\n",
       "[0, 0]\n",
       "[0, 0]"
      ]
     },
     "metadata": {},
     "output_type": "display_data"
    }
   ],
   "source": [
    "A = ca_mat([[5, pi], [1, -1]])**4\n",
    "display(A)\n",
    "display(A.charpoly())\n",
    "display(A.charpoly()(A))"
   ]
  },
  {
   "cell_type": "markdown",
   "metadata": {},
   "source": [
    "Calcium correctly recognizes singular matrices, even matrices that are nontrivially singular."
   ]
  },
  {
   "cell_type": "code",
   "execution_count": 68,
   "metadata": {},
   "outputs": [
    {
     "data": {
      "text/latex": [
       "$$\\displaystyle{\\begin{pmatrix}a_{1} & a^{2}_{1} \\\\a^{3}_{1} & a^{4}_{1}\\end{pmatrix}}\\; \\text{ where } a_{1} = \\pi$$"
      ],
      "text/plain": [
       "ca_mat of size 2 x 2\n",
       "[  3.14159 {a where a = 3.14159 [Pi]}, 9.86960 {a^2 where a = 3.14159 [Pi]}]\n",
       "[31.0063 {a^3 where a = 3.14159 [Pi]}, 97.4091 {a^4 where a = 3.14159 [Pi]}]"
      ]
     },
     "execution_count": 68,
     "metadata": {},
     "output_type": "execute_result"
    }
   ],
   "source": [
    "A = ca_mat([[pi, pi**2], [pi**3, pi**4]])\n",
    "A"
   ]
  },
  {
   "cell_type": "code",
   "execution_count": 69,
   "metadata": {},
   "outputs": [
    {
     "name": "stdout",
     "output_type": "stream",
     "text": [
      "matrix is singular!\n"
     ]
    }
   ],
   "source": [
    "try:\n",
    "    A.solve(ca_mat([[1], [2]]))\n",
    "except ZeroDivisionError:\n",
    "    print(\"matrix is singular!\")"
   ]
  },
  {
   "cell_type": "code",
   "execution_count": 70,
   "metadata": {},
   "outputs": [
    {
     "data": {
      "text/latex": [
       "$$\\displaystyle{\\begin{pmatrix}1 & a_{1} \\\\0 & 0\\end{pmatrix}}\\; \\text{ where } a_{1} = \\pi$$"
      ],
      "text/plain": [
       "ca_mat of size 2 x 2\n",
       "[1, 3.14159 {a where a = 3.14159 [Pi]}]\n",
       "[0,                                  0]"
      ]
     },
     "execution_count": 70,
     "metadata": {},
     "output_type": "execute_result"
    }
   ],
   "source": [
    "A.rref()"
   ]
  },
  {
   "cell_type": "code",
   "execution_count": 71,
   "metadata": {},
   "outputs": [
    {
     "data": {
      "text/plain": [
       "1"
      ]
     },
     "execution_count": 71,
     "metadata": {},
     "output_type": "execute_result"
    }
   ],
   "source": [
    "A.rank()"
   ]
  },
  {
   "cell_type": "markdown",
   "metadata": {},
   "source": [
    "Exact matrix operations easily result in large expressions:"
   ]
  },
  {
   "cell_type": "code",
   "execution_count": 72,
   "metadata": {},
   "outputs": [
    {
     "data": {
      "text/latex": [
       "$$\\displaystyle{\\begin{pmatrix}1 & a_{7} & a_{6} & 2 & a_{5} & a_{4} \\\\a_{7} & a_{6} & 2 & a_{5} & a_{4} & a_{3} \\\\a_{6} & 2 & a_{5} & a_{4} & a_{3} & 2 a_{7} \\\\2 & a_{5} & a_{4} & a_{3} & 2 a_{7} & 3 \\\\a_{5} & a_{4} & a_{3} & 2 a_{7} & 3 & a_{2} \\\\a_{4} & a_{3} & 2 a_{7} & 3 & a_{2} & a_{1}\\end{pmatrix}}\\; \\text{ where } a_{1} = \\sqrt{11},\\;a_{2} = \\sqrt{10},\\;a_{3} = \\sqrt{7},\\;a_{4} = \\sqrt{6},\\;a_{5} = \\sqrt{5},\\;a_{6} = \\sqrt{3},\\;a_{7} = \\sqrt{2}$$"
      ],
      "text/plain": [
       "ca_mat of size 6 x 6\n",
       "[                                      1, 1.41421 {a where a = 1.41421 [a^2-2=0]},   1.73205 {a where a = 1.73205 [a^2-3=0]},                                         2,   2.23607 {a where a = 2.23607 [a^2-5=0]},   2.44949 {a where a = 2.44949 [a^2-6=0]}]\n",
       "[1.41421 {a where a = 1.41421 [a^2-2=0]}, 1.73205 {a where a = 1.73205 [a^2-3=0]},                                         2,   2.23607 {a where a = 2.23607 [a^2-5=0]},   2.44949 {a where a = 2.44949 [a^2-6=0]},   2.64575 {a where a = 2.64575 [a^2-7=0]}]\n",
       "[1.73205 {a where a = 1.73205 [a^2-3=0]},                                       2,   2.23607 {a where a = 2.23607 [a^2-5=0]},   2.44949 {a where a = 2.44949 [a^2-6=0]},   2.64575 {a where a = 2.64575 [a^2-7=0]}, 2.82843 {2*a where a = 1.41421 [a^2-2=0]}]\n",
       "[                                      2, 2.23607 {a where a = 2.23607 [a^2-5=0]},   2.44949 {a where a = 2.44949 [a^2-6=0]},   2.64575 {a where a = 2.64575 [a^2-7=0]}, 2.82843 {2*a where a = 1.41421 [a^2-2=0]},                                         3]\n",
       "[2.23607 {a where a = 2.23607 [a^2-5=0]}, 2.44949 {a where a = 2.44949 [a^2-6=0]},   2.64575 {a where a = 2.64575 [a^2-7=0]}, 2.82843 {2*a where a = 1.41421 [a^2-2=0]},                                         3,  3.16228 {a where a = 3.16228 [a^2-10=0]}]\n",
       "[2.44949 {a where a = 2.44949 [a^2-6=0]}, 2.64575 {a where a = 2.64575 [a^2-7=0]}, 2.82843 {2*a where a = 1.41421 [a^2-2=0]},                                         3,  3.16228 {a where a = 3.16228 [a^2-10=0]},  3.31662 {a where a = 3.31662 [a^2-11=0]}]"
      ]
     },
     "execution_count": 72,
     "metadata": {},
     "output_type": "execute_result"
    }
   ],
   "source": [
    "A = ca_mat([[sqrt(i+j+1) for i in range(6)] for j in range(6)])\n",
    "A"
   ]
  },
  {
   "cell_type": "code",
   "execution_count": null,
   "metadata": {},
   "outputs": [
    {
     "data": {
      "text/latex": [
       "$$-4 a_{1} a_{3} a_{5} a_{6}-20 a_{1} a_{3} a_{5} a_{7}-24 a_{1} a_{3} a_{5}-4 a_{1} a_{3} a_{6} a_{7} + 8 a_{1} a_{3} a_{6} + 136 a_{1} a_{3}-28 a_{1} a_{5} a_{6} a_{7}-116 a_{1} a_{5} a_{6}-88 a_{1} a_{5} a_{7} + 64 a_{1} a_{5} + 112 a_{1} a_{6} a_{7} + 164 a_{1} a_{6}-60 a_{1} a_{7} + 244 a_{1} + 204 a_{3} a_{5} a_{6} a_{7}-96 a_{3} a_{5} a_{6} + 8 a_{3} a_{5} a_{7} + 144 a_{3} a_{5}-152 a_{3} a_{6} a_{7}-240 a_{3} a_{6} + 500 a_{3} a_{7} + 548 a_{3}-216 a_{5} a_{6} a_{7} + 116 a_{5} a_{6} + 628 a_{5} a_{7} + 764 a_{5}-500 a_{6} a_{7} + 24 a_{6}-1440 a_{7}-3868\\; \\text{ where } a_{1} = \\sqrt{11},\\;a_{2} = \\sqrt{10},\\;a_{3} = \\sqrt{7},\\;a_{4} = \\sqrt{6},\\;a_{5} = \\sqrt{5},\\;a_{6} = \\sqrt{3},\\;a_{7} = \\sqrt{2}$$"
      ],
      "text/plain": [
       "-8.09559e-17 {-4*a*c*e*f-20*a*c*e*g-24*a*c*e-4*a*c*f*g+8*a*c*f+136*a*c-28*a*e*f*g-116*a*e*f-88*a*e*g+64*a*e+112*a*f*g+164*a*f-60*a*g+244*a+204*c*e*f*g-96*c*e*f+8*c*e*g+144*c*e-152*c*f*g-240*c*f+500*c*g+548*c-216*e*f*g+116*e*f+628*e*g+764*e-500*f*g+24*f-1440*g-3868 where a = 3.31662 [a^2-11=0], b = 3.16228 [b^2-10=0], c = 2.64575 [c^2-7=0], d = 2.44949 [d^2-6=0], e = 2.23607 [e^2-5=0], f = 1.73205 [f^2-3=0], g = 1.41421 [g^2-2=0]}"
      ]
     },
     "execution_count": 73,
     "metadata": {},
     "output_type": "execute_result"
    }
   ],
   "source": [
    "A.det()"
   ]
  },
  {
   "cell_type": "markdown",
   "metadata": {},
   "source": [
    "### Eigenvalues and matrix functions"
   ]
  },
  {
   "cell_type": "markdown",
   "metadata": {},
   "source": [
    "Calcium can calculate exact eigenvalues of matrices, with correct multiplicities. This is accomplished by factoring the characteristic polynomial. Currently, computing polynomial roots will only work for polynomials with very simple structure or with rational entries, so do not expect too much!"
   ]
  },
  {
   "cell_type": "code",
   "execution_count": null,
   "metadata": {},
   "outputs": [
    {
     "data": {
      "text/latex": [
       "$$\\displaystyle{\\begin{pmatrix}1 & a_{1} \\\\- a_{1} & 1\\end{pmatrix}}\\; \\text{ where } a_{1} = \\pi$$"
      ],
      "text/plain": [
       "ca_mat of size 2 x 2\n",
       "[                                   1, 3.14159 {a where a = 3.14159 [Pi]}]\n",
       "[-3.14159 {-a where a = 3.14159 [Pi]},                                  1]"
      ]
     },
     "metadata": {},
     "output_type": "display_data"
    }
   ],
   "source": [
    "A = ca_mat([[1,pi],[-pi,1]])\n",
    "display(A)\n",
    "\n",
    "for lamda, mult in A.eigenvalues():\n",
    "    print(\"Multiplicity\", mult)\n",
    "    display(lamda)"
   ]
  },
  {
   "cell_type": "markdown",
   "metadata": {},
   "source": [
    "We demonstrate computing the Jordan decomposition of a matrix with nontrivial Jordan form:"
   ]
  },
  {
   "cell_type": "code",
   "execution_count": null,
   "metadata": {},
   "outputs": [],
   "source": [
    "A = ca_mat([[20,77,59,40], [0,-2,-3,-2], [-10,-35,-23,-15], [2,7,3,1]])\n",
    "J, P = A.jordan_form(transform=True)\n",
    "display(J)\n",
    "display(P)\n",
    "display(P * J * P.inv())"
   ]
  },
  {
   "cell_type": "markdown",
   "metadata": {},
   "source": [
    "We construct a simple matrix and compute its matrix logarithm, which is uses Jordan decomposition internally:"
   ]
  },
  {
   "cell_type": "code",
   "execution_count": null,
   "metadata": {},
   "outputs": [],
   "source": [
    "A = ca_mat([[-1, -2], [1, 1]])\n",
    "display(A)\n",
    "display(A.log())"
   ]
  },
  {
   "cell_type": "markdown",
   "metadata": {},
   "source": [
    "We evaluate the exponential of the logarithm, recovering the original matrix. This will only work in very simple cases."
   ]
  },
  {
   "cell_type": "code",
   "execution_count": null,
   "metadata": {},
   "outputs": [],
   "source": [
    "A.log().exp()"
   ]
  },
  {
   "cell_type": "markdown",
   "metadata": {},
   "source": [
    "Another nice example:"
   ]
  },
  {
   "cell_type": "code",
   "execution_count": null,
   "metadata": {},
   "outputs": [],
   "source": [
    "B = ca_mat([[0,0,1],[0,1,0],[1,0,0]])\n",
    "display(B.log())\n",
    "display(B.log().exp())"
   ]
  },
  {
   "cell_type": "markdown",
   "metadata": {},
   "source": [
    "The following matrix is nilpotent; its exponential is a polynomial expression of the matrix:"
   ]
  },
  {
   "cell_type": "code",
   "execution_count": null,
   "metadata": {},
   "outputs": [],
   "source": [
    "A = ca_mat([[10,32,3,-13], [-8,-30,-4,11], [25,90,11,-34], [-6,-28,-5,9]])\n",
    "display(A.exp())\n",
    "display(A**0 + A**1 + A**2/2 + A**3/6)"
   ]
  },
  {
   "cell_type": "markdown",
   "metadata": {},
   "source": [
    "We construct the 5x5 Hilbert matrix and check that its eigenvalues satisfy the expected determinant and trace relations:"
   ]
  },
  {
   "cell_type": "code",
   "execution_count": null,
   "metadata": {},
   "outputs": [],
   "source": [
    "H = ca_mat([[ca(1)/(i+j+1) for i in range(5)] for j in range(5)])\n",
    "H"
   ]
  },
  {
   "cell_type": "code",
   "execution_count": null,
   "metadata": {},
   "outputs": [],
   "source": [
    "eig = H.eigenvalues()\n",
    "for c, mult in eig:\n",
    "    display(c)"
   ]
  },
  {
   "cell_type": "code",
   "execution_count": null,
   "metadata": {},
   "outputs": [],
   "source": [
    "display(sum(c * mult for (c, mult) in eig)); display(H.trace())\n",
    "display(prod(c ** mult for (c, mult) in eig)); display(H.det())"
   ]
  },
  {
   "cell_type": "markdown",
   "metadata": {},
   "source": [
    "## Polynomials\n",
    "\n",
    "The `ca_poly` type represents univariate polynomials with `ca` coefficients. We can construct polynomials and do arithmetic:"
   ]
  },
  {
   "cell_type": "code",
   "execution_count": null,
   "metadata": {},
   "outputs": [],
   "source": [
    "x = ca_poly([0,1])\n",
    "f = 1 + (2 + ca(2).sqrt() * ca.pi()) * x + 3*x**2\n",
    "f"
   ]
  },
  {
   "cell_type": "code",
   "execution_count": null,
   "metadata": {},
   "outputs": [],
   "source": [
    "f ** 5"
   ]
  },
  {
   "cell_type": "code",
   "execution_count": null,
   "metadata": {},
   "outputs": [],
   "source": [
    "ca_poly([1,1,1,1,1,1,1,1,1]).integral()"
   ]
  },
  {
   "cell_type": "markdown",
   "metadata": {},
   "source": [
    "Polynomial division, GCD and other operations work as expected:"
   ]
  },
  {
   "cell_type": "code",
   "execution_count": null,
   "metadata": {},
   "outputs": [],
   "source": [
    "display(f ** 5 // f**4)"
   ]
  },
  {
   "cell_type": "code",
   "execution_count": null,
   "metadata": {},
   "outputs": [],
   "source": [
    "display(f**5 % f**4)"
   ]
  },
  {
   "cell_type": "code",
   "execution_count": null,
   "metadata": {},
   "outputs": [],
   "source": [
    "(f * (x**2-1)).gcd(f**2 * (x-1))"
   ]
  },
  {
   "cell_type": "code",
   "execution_count": null,
   "metadata": {},
   "outputs": [],
   "source": [
    "(x**2 + ca.pi()**2).gcd(x + ca.i() * ca.pi())"
   ]
  },
  {
   "cell_type": "code",
   "execution_count": null,
   "metadata": {},
   "outputs": [],
   "source": [
    "ca_poly([9,6,7,-28,12]).squarefree_part()"
   ]
  },
  {
   "cell_type": "code",
   "execution_count": null,
   "metadata": {},
   "outputs": [],
   "source": [
    "# Squarefree factorization\n",
    "for (fac, mult) in ca_poly([9,6,7,-28,12]).factor_squarefree()[1]:\n",
    "    print(f\"Multiplicity {mult}:\")\n",
    "    display(fac)"
   ]
  },
  {
   "cell_type": "markdown",
   "metadata": {},
   "source": [
    "Finding the roots of a high-degree polynomial:"
   ]
  },
  {
   "cell_type": "code",
   "execution_count": null,
   "metadata": {},
   "outputs": [],
   "source": [
    "f = 4*x**7 + 4*x**6 - 11*x**5 - 16*x**4 + x**3 + 15*x**2 + 10*x + 2\n",
    "\n",
    "for root, mult in f.roots():\n",
    "    print(f\"Multiplicity {mult}:\")\n",
    "    display(root)"
   ]
  },
  {
   "cell_type": "code",
   "execution_count": null,
   "metadata": {},
   "outputs": [],
   "source": [
    "f(sqrt(2))"
   ]
  }
 ],
 "metadata": {
  "kernelspec": {
   "display_name": "Python 3",
   "language": "python",
   "name": "python3"
  },
  "language_info": {
   "codemirror_mode": {
    "name": "ipython",
    "version": 3
   },
   "file_extension": ".py",
   "mimetype": "text/x-python",
   "name": "python",
   "nbconvert_exporter": "python",
   "pygments_lexer": "ipython3",
   "version": "3.6.9"
  }
 },
 "nbformat": 4,
 "nbformat_minor": 2
}
